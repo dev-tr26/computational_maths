{
  "nbformat": 4,
  "nbformat_minor": 0,
  "metadata": {
    "colab": {
      "provenance": []
    },
    "kernelspec": {
      "name": "python3",
      "display_name": "Python 3"
    },
    "language_info": {
      "name": "python"
    }
  },
  "cells": [
    {
      "cell_type": "markdown",
      "source": [
        "## trying for gpt2-medium"
      ],
      "metadata": {
        "id": "CDj6Fndocmh-"
      }
    },
    {
      "cell_type": "markdown",
      "source": [
        "See how small prompt changes shift model predictions."
      ],
      "metadata": {
        "id": "FmVt4p3Qeuks"
      }
    },
    {
      "cell_type": "markdown",
      "source": [
        "Test how GPT-2 changes predictions based on different contexts."
      ],
      "metadata": {
        "id": "hZDfzM2dfo29"
      }
    },
    {
      "cell_type": "code",
      "source": [
        "import torch\n",
        "import torch.nn.functional as F\n",
        "from transformers import GPT2LMHeadModel, GPT2Tokenizer\n",
        "import matplotlib.pyplot as plt\n",
        "\n",
        "model_name = \"gpt2-medium\"\n",
        "model = GPT2LMHeadModel.from_pretrained(model_name)\n",
        "tokenizer = GPT2Tokenizer.from_pretrained(model_name)\n",
        "model.eval()\n",
        "\n",
        "prompts = [\n",
        "    \"i am sexiest person\",\n",
        "    \"different perspective of the world in \",\n",
        "    \"the sound travels \",\n",
        "    \" Foreign institutial investors for a country \",\n",
        "    \"fried rice is the most \",\n",
        "    \"the best musician in the world is \",\n",
        "    \"manoj bajpayee is an actor who has worked in movies like \",\n",
        "    \"the porn business is the best business in tech world \"\n",
        "]\n",
        "\n",
        "for prompt in prompts:\n",
        "  input_ids = tokenizer.encode(prompt, return_tensors=\"pt\")\n",
        "  with torch.no_grad():\n",
        "    outputs = model(input_ids)\n",
        "    logits = outputs.logits\n",
        "    next_token_logits = logits[0, -1, :]  # Get logits for next token\n",
        "\n",
        "  probs = F.softmax(next_token_logits, dim=-1)\n",
        "  top_probs, top_indices = torch.topk(probs, 8)\n",
        "\n",
        "  top_tokens = []\n",
        "  for i in top_indices:\n",
        "    token = tokenizer.decode([i])\n",
        "    token = token.replace('\\n', '').replace('', '').strip()\n",
        "    if token == \"\":\n",
        "      token = \"<blank>\"\n",
        "    top_tokens.append(token)\n",
        "\n",
        "\n",
        "  print(f\"\\nPrompt: {prompt}\")\n",
        "  for token, prob in zip(top_tokens, top_probs):\n",
        "    print(f\"{token:<15} {prob.item(): .4f}\")"
      ],
      "metadata": {
        "colab": {
          "base_uri": "https://localhost:8080/"
        },
        "id": "IIxhGG65ZXa0",
        "outputId": "9b48e3ea-adce-4ab4-cc6c-b890cb42e62a"
      },
      "execution_count": 6,
      "outputs": [
        {
          "output_type": "stream",
          "name": "stdout",
          "text": [
            "\n",
            "Prompt: i am sexiest person\n",
            "in               0.2573\n",
            "on               0.1295\n",
            "ever             0.1107\n",
            "alive            0.0808\n",
            "I                0.0623\n",
            "you              0.0289\n",
            ".                0.0270\n",
            ",                0.0191\n",
            "\n",
            "Prompt: different perspective of the world in \n",
            "vern             0.3259\n",
            "<blank>          0.2361\n",
            "________         0.0432\n",
            "_____            0.0327\n",
            "『                0.0318\n",
            "Â                0.0189\n",
            "�                0.0185\n",
            "�                0.0149\n",
            "\n",
            "Prompt: the sound travels \n",
            "<blank>          0.5049\n",
            "」                0.0470\n",
            "˜                0.0369\n",
            "________         0.0317\n",
            "?\"               0.0288\n",
            "�                0.0269\n",
            "�                0.0243\n",
            "_____            0.0200\n",
            "\n",
            "Prompt:  Foreign institutial investors for a country \n",
            "<blank>          0.1794\n",
            "?\"               0.1238\n",
            "�                0.0640\n",
            "ia               0.0590\n",
            "!\"               0.0295\n",
            "iz               0.0277\n",
            "vern             0.0251\n",
            "ike              0.0204\n",
            "\n",
            "Prompt: fried rice is the most \n",
            "icky             0.2841\n",
            "<blank>          0.2578\n",
            "iced             0.1999\n",
            "vern             0.0163\n",
            "ers              0.0157\n",
            "ick              0.0149\n",
            "ile              0.0109\n",
            "ert              0.0106\n",
            "\n",
            "Prompt: the best musician in the world is \n",
            "________         0.2904\n",
            "____             0.2067\n",
            "_____            0.1620\n",
            "_______          0.1601\n",
            "<blank>          0.0635\n",
            "?\"               0.0119\n",
            "________________  0.0112\n",
            "????             0.0103\n",
            "\n",
            "Prompt: manoj bajpayee is an actor who has worked in movies like \n",
            "���              0.0781\n",
            "<blank>          0.0743\n",
            "�                0.0586\n",
            "�                0.0355\n",
            "vern             0.0340\n",
            "iz               0.0333\n",
            "xt               0.0310\n",
            "iced             0.0297\n",
            "\n",
            "Prompt: the porn business is the best business in tech world \n",
            "!\"               0.1612\n",
            "ㅋㅋ               0.1244\n",
            ".\")              0.1196\n",
            "�                0.0899\n",
            "!!!              0.0687\n",
            "?\"               0.0597\n",
            "<blank>          0.0533\n",
            "!!!!             0.0423\n"
          ]
        }
      ]
    },
    {
      "cell_type": "markdown",
      "source": [
        "GPT-2 uses a Byte Pair Encoding (BPE) tokenizer.\n",
        "\n",
        "It often returns partial words, strange symbols (�), or whitespace tokens when decoded one token at a time."
      ],
      "metadata": {
        "id": "D_7_4FQdkKIH"
      }
    },
    {
      "cell_type": "code",
      "source": [
        "import torch\n",
        "import torch.nn.functional as F\n",
        "from transformers import GPT2LMHeadModel, GPT2Tokenizer\n",
        "import matplotlib.pyplot as plt\n",
        "\n",
        "model_name = \"gpt2-medium\"\n",
        "model = GPT2LMHeadModel.from_pretrained(model_name)\n",
        "tokenizer = GPT2Tokenizer.from_pretrained(model_name)\n",
        "model.eval()\n",
        "\n",
        "prompts = [\n",
        "    \"i am sexiest person\",\n",
        "    \"different perspective of the world in \",\n",
        "    \"the sound travels \",\n",
        "    \" Foreign institutial investors for a country \",\n",
        "    \"fried rice is the most \",\n",
        "    \"the best musician in the world is \",\n",
        "    \"manoj bajpayee is an actor who has worked in movies like \",\n",
        "    \"the porn business is the best business in tech world \"\n",
        "]\n",
        "\n",
        "for prompt in prompts:\n",
        "  input_ids = tokenizer.encode(prompt, return_tensors=\"pt\")\n",
        "  with torch.no_grad():\n",
        "    outputs = model(input_ids)\n",
        "    logits = outputs.logits\n",
        "    next_token_logits = logits[0, -1, :]  # Get logits for next token\n",
        "\n",
        "  probs = F.softmax(next_token_logits, dim=-1)\n",
        "  top_probs, top_indices = torch.topk(probs, 8)\n",
        "  top_tokens = []\n",
        "  for i in top_indices:\n",
        "    token = tokenizer.decode([i])\n",
        "    token = token.replace('\\n', '').replace('', '').strip()\n",
        "    if token == \"\":\n",
        "      token = \"<blank>\"\n",
        "    top_tokens.append(token)\n",
        "\n",
        "  print(f\"\\nPrompt: {prompt}\")\n",
        "  for token, prob in zip(top_tokens, top_probs):\n",
        "    print(f\"{token:<15} {prob.item(): .4f}\")"
      ],
      "metadata": {
        "colab": {
          "base_uri": "https://localhost:8080/",
          "height": 211
        },
        "id": "20tVo1h_kUEN",
        "outputId": "fb93ef88-8c82-4a23-b22f-523d81c0ab5f"
      },
      "execution_count": 5,
      "outputs": [
        {
          "output_type": "error",
          "ename": "AttributeError",
          "evalue": "'str' object has no attribute 'decode'",
          "traceback": [
            "\u001b[0;31m---------------------------------------------------------------------------\u001b[0m",
            "\u001b[0;31mAttributeError\u001b[0m                            Traceback (most recent call last)",
            "\u001b[0;32m<ipython-input-5-3647360821>\u001b[0m in \u001b[0;36m<cell line: 0>\u001b[0;34m()\u001b[0m\n\u001b[1;32m     31\u001b[0m   \u001b[0mtop_tokens\u001b[0m \u001b[0;34m=\u001b[0m \u001b[0;34m[\u001b[0m\u001b[0;34m]\u001b[0m\u001b[0;34m\u001b[0m\u001b[0;34m\u001b[0m\u001b[0m\n\u001b[1;32m     32\u001b[0m   \u001b[0;32mfor\u001b[0m \u001b[0mi\u001b[0m \u001b[0;32min\u001b[0m \u001b[0mtop_indices\u001b[0m\u001b[0;34m:\u001b[0m\u001b[0;34m\u001b[0m\u001b[0;34m\u001b[0m\u001b[0m\n\u001b[0;32m---> 33\u001b[0;31m     \u001b[0mtoken\u001b[0m \u001b[0;34m=\u001b[0m \u001b[0mtoken\u001b[0m\u001b[0;34m.\u001b[0m\u001b[0mdecode\u001b[0m\u001b[0;34m(\u001b[0m\u001b[0;34m[\u001b[0m\u001b[0mi\u001b[0m\u001b[0;34m]\u001b[0m\u001b[0;34m)\u001b[0m\u001b[0;34m\u001b[0m\u001b[0;34m\u001b[0m\u001b[0m\n\u001b[0m\u001b[1;32m     34\u001b[0m     \u001b[0mtoken\u001b[0m \u001b[0;34m=\u001b[0m \u001b[0mtoken\u001b[0m\u001b[0;34m.\u001b[0m\u001b[0mreplace\u001b[0m\u001b[0;34m(\u001b[0m\u001b[0;34m'\\n'\u001b[0m\u001b[0;34m,\u001b[0m \u001b[0;34m''\u001b[0m\u001b[0;34m)\u001b[0m\u001b[0;34m.\u001b[0m\u001b[0mreplace\u001b[0m\u001b[0;34m(\u001b[0m\u001b[0;34m''\u001b[0m\u001b[0;34m,\u001b[0m \u001b[0;34m''\u001b[0m\u001b[0;34m)\u001b[0m\u001b[0;34m.\u001b[0m\u001b[0mstrip\u001b[0m\u001b[0;34m(\u001b[0m\u001b[0;34m)\u001b[0m\u001b[0;34m\u001b[0m\u001b[0;34m\u001b[0m\u001b[0m\n\u001b[1;32m     35\u001b[0m     \u001b[0;32mif\u001b[0m \u001b[0mtoken\u001b[0m \u001b[0;34m==\u001b[0m \u001b[0;34m\"\"\u001b[0m\u001b[0;34m:\u001b[0m\u001b[0;34m\u001b[0m\u001b[0;34m\u001b[0m\u001b[0m\n",
            "\u001b[0;31mAttributeError\u001b[0m: 'str' object has no attribute 'decode'"
          ]
        }
      ]
    },
    {
      "cell_type": "code",
      "source": [],
      "metadata": {
        "id": "fnU1zN-JkJgC"
      },
      "execution_count": null,
      "outputs": []
    },
    {
      "cell_type": "markdown",
      "source": [
        "##visualize the next-word probabilities using GPT-2"
      ],
      "metadata": {
        "id": "nL15VPkacd_d"
      }
    },
    {
      "cell_type": "code",
      "execution_count": 3,
      "metadata": {
        "colab": {
          "base_uri": "https://localhost:8080/",
          "height": 371
        },
        "id": "aLXzytnPZWvL",
        "outputId": "046cde4c-b9dc-42c6-dc69-f41bd40e44b6"
      },
      "outputs": [
        {
          "output_type": "display_data",
          "data": {
            "text/plain": [
              "<Figure size 1000x500 with 1 Axes>"
            ],
            "image/png": "[encoded data removed]"
          },
          "metadata": {}
        }
      ],
      "source": [
        "import torch\n",
        "from transformers import GPT2LMHeadModel, GPT2Tokenizer\n",
        "import torch.nn.functional as F\n",
        "import matplotlib.pyplot as plt\n",
        "\n",
        "# Load GPT-2\n",
        "model_name = \"gpt2\"\n",
        "model = GPT2LMHeadModel.from_pretrained(model_name)\n",
        "tokenizer = GPT2Tokenizer.from_pretrained(model_name)\n",
        "model.eval()\n",
        "\n",
        "# Input prompt\n",
        "prompt = \"The capital of France is\"\n",
        "input_ids = tokenizer.encode(prompt, return_tensors='pt')\n",
        "\n",
        "# Get model output\n",
        "with torch.no_grad():\n",
        "    outputs = model(input_ids)\n",
        "    logits = outputs.logits\n",
        "\n",
        "# Get logits for the next token\n",
        "next_token_logits = logits[0, -1, :]\n",
        "\n",
        "# Convert logits to probabilities\n",
        "probs = F.softmax(next_token_logits, dim=-1)\n",
        "\n",
        "# Get top 10 predictions\n",
        "top_k = 10\n",
        "top_probs, top_indices = torch.topk(probs, top_k)\n",
        "top_tokens = [tokenizer.decode([idx]) for idx in top_indices]\n",
        "\n",
        "# Plotting\n",
        "plt.figure(figsize=(10, 5))\n",
        "plt.bar(top_tokens, top_probs.numpy())\n",
        "plt.title(\"Top-10 Next Token Predictions\")\n",
        "plt.xlabel(\"Token\")\n",
        "plt.ylabel(\"Probability\")\n",
        "plt.show()\n"
      ]
    },
    {
      "cell_type": "markdown",
      "source": [
        "##Temperature Sampling Effect\n",
        "\n",
        "-see how temperature affects diversity of predicted tokens\n",
        "- low temp == confident predictions\n",
        "- high = creative/uncertain"
      ],
      "metadata": {
        "id": "m8Mjtoqbl415"
      }
    },
    {
      "cell_type": "code",
      "source": [
        "def sample_with_temperature(prompt, temperature=1.0):\n",
        "    input_ids = tokenizer.encode(prompt, return_tensors='pt')\n",
        "    with torch.no_grad():\n",
        "        logits = model(input_ids).logits\n",
        "    logits = logits[0, -1, :] / temperature  # scale logits\n",
        "    probs = F.softmax(logits, dim=-1)\n",
        "    top_probs, top_indices = torch.topk(probs, 10)\n",
        "    top_tokens = [tokenizer.decode([i]) for i in top_indices]\n",
        "    print(f\"\\nPrompt: {prompt} (Temperature: {temperature})\")\n",
        "    for token, prob in zip(top_tokens, top_probs):\n",
        "        print(f\"  {token.strip():<10} {prob.item():.4f}\")\n",
        "\n",
        "sample_with_temperature(\"Once upon a time\", temperature=0.7)\n",
        "sample_with_temperature(\"Once upon a time\", temperature=1.5)\n",
        "sample_with_temperature(\"laughter is the\", temperature= 0.4)"
      ],
      "metadata": {
        "colab": {
          "base_uri": "https://localhost:8080/"
        },
        "id": "Plcyd5MhZXd0",
        "outputId": "f6a12a3b-8538-4bd1-d177-5e29d8019596"
      },
      "execution_count": 8,
      "outputs": [
        {
          "output_type": "stream",
          "name": "stdout",
          "text": [
            "\n",
            "Prompt: Once upon a time (Temperature: 0.7)\n",
            "  ,          0.9145\n",
            "  there      0.0273\n",
            "  I          0.0137\n",
            "  in         0.0129\n",
            "  the        0.0076\n",
            "  we         0.0040\n",
            "  it         0.0027\n",
            "  a          0.0020\n",
            "  (          0.0017\n",
            "  he         0.0013\n",
            "\n",
            "Prompt: Once upon a time (Temperature: 1.5)\n",
            "  ,          0.1259\n",
            "  there      0.0244\n",
            "  I          0.0177\n",
            "  in         0.0173\n",
            "  the        0.0135\n",
            "  we         0.0099\n",
            "  it         0.0083\n",
            "  a          0.0072\n",
            "  (          0.0068\n",
            "  he         0.0059\n",
            "\n",
            "Prompt: laughter is the (Temperature: 0.4)\n",
            "  only       0.3652\n",
            "  most       0.2772\n",
            "  best       0.1252\n",
            "  word       0.0569\n",
            "  name       0.0364\n",
            "  first      0.0278\n",
            "  worst      0.0213\n",
            "  key        0.0155\n",
            "  one        0.0108\n",
            "  same       0.0078\n"
          ]
        }
      ]
    },
    {
      "cell_type": "markdown",
      "source": [
        "## Measure Entropy of Predictions"
      ],
      "metadata": {
        "id": "6mIZdJBvmdXF"
      }
    },
    {
      "cell_type": "code",
      "source": [
        "import math\n",
        "\n",
        "def calculate_entropy(probs):\n",
        "    return -torch.sum(probs * torch.log(probs + 1e-10)).item()\n",
        "\n",
        "prompt = \"In the future, AI will\"\n",
        "input_ids = tokenizer.encode(prompt, return_tensors='pt')\n",
        "with torch.no_grad():\n",
        "    logits = model(input_ids).logits\n",
        "probs = F.softmax(logits[0, -1], dim=-1)\n",
        "entropy = calculate_entropy(probs)\n",
        "print(f\"Entropy for prompt '{prompt}': {entropy:.3f}\")\n"
      ],
      "metadata": {
        "colab": {
          "base_uri": "https://localhost:8080/"
        },
        "id": "lORcd7FJZXgk",
        "outputId": "2579e8da-905a-41f3-c3a3-6a1a72ceb9b7"
      },
      "execution_count": 9,
      "outputs": [
        {
          "output_type": "stream",
          "name": "stdout",
          "text": [
            "Entropy for prompt 'In the future, AI will': 4.725\n"
          ]
        }
      ]
    },
    {
      "cell_type": "markdown",
      "source": [
        "## Force Feed a Word and Observe Shift"
      ],
      "metadata": {
        "id": "Lk_qKbtlmk6e"
      }
    },
    {
      "cell_type": "code",
      "source": [
        "prompt1 = \"i love\"\n",
        "prompt2 = \"i love you\"\n",
        "\n",
        "for prompt in [prompt1, prompt2]:\n",
        "    input_ids = tokenizer.encode(prompt, return_tensors='pt')\n",
        "    with torch.no_grad():\n",
        "        logits = model(input_ids).logits\n",
        "    probs = F.softmax(logits[0, -1], dim=-1)\n",
        "    top_probs, top_indices = torch.topk(probs, 5)\n",
        "    top_tokens = [tokenizer.decode([i]) for i in top_indices]\n",
        "    print(f\"\\nPrompt: '{prompt}' → Next token:\")\n",
        "    for token, prob in zip(top_tokens, top_probs):\n",
        "        print(f\"  {token.strip():<10} {prob.item():.4f}\")\n"
      ],
      "metadata": {
        "colab": {
          "base_uri": "https://localhost:8080/"
        },
        "id": "fRWm6opfZXjU",
        "outputId": "ff0eabf9-d100-4d9e-826b-1954232facbb"
      },
      "execution_count": 11,
      "outputs": [
        {
          "output_type": "stream",
          "name": "stdout",
          "text": [
            "\n",
            "Prompt: 'i love' → Next token:\n",
            "  the        0.0873\n",
            "  it         0.0870\n",
            "  you        0.0841\n",
            "  to         0.0769\n",
            "  this       0.0519\n",
            "\n",
            "Prompt: 'i love you' → Next token:\n",
            "  .          0.1039\n",
            "  ,          0.1002\n",
            "  .\"         0.0633\n",
            "  so         0.0423\n",
            "  and        0.0398\n"
          ]
        }
      ]
    },
    {
      "cell_type": "code",
      "source": [],
      "metadata": {
        "id": "UJSnwf0PZXnD"
      },
      "execution_count": null,
      "outputs": []
    },
    {
      "cell_type": "code",
      "source": [],
      "metadata": {
        "id": "Bo4ByNpAZXop"
      },
      "execution_count": null,
      "outputs": []
    },
    {
      "cell_type": "code",
      "source": [],
      "metadata": {
        "id": "ZJmI9apFZXrk"
      },
      "execution_count": null,
      "outputs": []
    },
    {
      "cell_type": "code",
      "source": [],
      "metadata": {
        "id": "ZzGG8LrsZXuX"
      },
      "execution_count": null,
      "outputs": []
    },
    {
      "cell_type": "code",
      "source": [],
      "metadata": {
        "id": "_AIP65-4ZXxE"
      },
      "execution_count": null,
      "outputs": []
    },
    {
      "cell_type": "code",
      "source": [],
      "metadata": {
        "id": "DcG7BGYiZX0W"
      },
      "execution_count": null,
      "outputs": []
    },
    {
      "cell_type": "code",
      "source": [],
      "metadata": {
        "id": "Be7bEZseZX3F"
      },
      "execution_count": null,
      "outputs": []
    },
    {
      "cell_type": "code",
      "source": [],
      "metadata": {
        "id": "JUXnKQffZX50"
      },
      "execution_count": null,
      "outputs": []
    },
    {
      "cell_type": "code",
      "source": [],
      "metadata": {
        "id": "WbL5-no2ZX8U"
      },
      "execution_count": null,
      "outputs": []
    }
  ]
}